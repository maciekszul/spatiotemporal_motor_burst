{
 "cells": [
  {
   "cell_type": "code",
   "execution_count": 19,
   "id": "metric-tribe",
   "metadata": {},
   "outputs": [],
   "source": [
    "import mpl_interactions.ipyplot as iplt\n",
    "import matplotlib.pyplot as plt\n",
    "import numpy as np\n",
    "from matplotlib import colors\n",
    "from scipy.stats import norm, multivariate_normal\n",
    "from matplotlib import gridspec\n",
    "from mpl_toolkits.axes_grid1 import make_axes_locatable\n",
    "import itertools as it\n",
    "import ipywidgets as widgets\n",
    "from scipy import signal, fft\n",
    "import warnings\n",
    "warnings.filterwarnings(\"ignore\")\n",
    "%matplotlib ipympl"
   ]
  },
  {
   "cell_type": "code",
   "execution_count": 3,
   "id": "second-simon",
   "metadata": {},
   "outputs": [],
   "source": [
    "def gaussian_dist_2d(loc, scale):\n",
    "    mean = np.zeros(2) + loc\n",
    "    cov = np.eye(2) * scale\n",
    "    dist_2d = multivariate_normal(mean, cov)\n",
    "    return dist_2d\n",
    "\n",
    "def plot_Z(Z, extent=[-5, 5, -5, 5]):\n",
    "    f = plt.figure(figsize=(5,5))\n",
    "    ax = plt.subplot(111)\n",
    "    divider = make_axes_locatable(ax)\n",
    "    cax = divider.append_axes(\"right\", size=\"5%\", pad=0.05)\n",
    "    im = ax.imshow(Z, aspect=\"equal\", cmap=\"RdBu_r\", norm=divnorm, origin=\"lower\", extent=extent)\n",
    "    plt.colorbar(im, cax=cax)\n",
    "\n",
    "def plot_Z_multiple(Z, ax, extent=[-5, 5, -5, 5]):\n",
    "    divider = make_axes_locatable(ax)\n",
    "    cax = divider.append_axes(\"right\", size=\"5%\", pad=0.05)\n",
    "    im = ax.imshow(Z,aspect=\"equal\", cmap=\"RdBu_r\", norm=divnorm, origin=\"lower\", extent=extent)\n",
    "    plt.colorbar(im, cax=cax)"
   ]
  },
  {
   "cell_type": "code",
   "execution_count": 4,
   "id": "former-straight",
   "metadata": {},
   "outputs": [],
   "source": [
    "def gaussian_2d(position_x, position_y, scale, amp):\n",
    "    mean = np.zeros(2) + np.array([position_x, position_y])\n",
    "    cov = np.eye(2) * scale\n",
    "    dist_2d = multivariate_normal(mean, cov)\n",
    "    dist_2d = dist_2d.pdf(d).reshape(resolution, resolution)\n",
    "    dist_2d = dist_2d * (amp/dist_2d.max())\n",
    "    return dist_2d\n",
    "\n",
    "\n",
    "def gauss_sum(prox_pos_x, prox_pos_y, prox_scale, prox_amp, dist_pos_x, dist_pos_y, dist_scale, dist_amp):\n",
    "    prox = gaussian_2d(prox_pos_x, prox_pos_y, prox_scale, prox_amp)\n",
    "    dist = gaussian_2d(dist_pos_x, dist_pos_y, dist_scale, dist_amp)\n",
    "    dist = dist\n",
    "    return prox + (-dist)\n",
    "\n",
    "\n",
    "def time_course(t, offset, speed):\n",
    "    tc = norm.pdf(t, offset, speed)\n",
    "    tc = tc * (1/tc.max())\n",
    "    return tc"
   ]
  },
  {
   "cell_type": "code",
   "execution_count": 5,
   "id": "cardiovascular-being",
   "metadata": {},
   "outputs": [],
   "source": [
    "def wv_transform(data, sfreq, min_freq, max_freq, num_frex):\n",
    "    # frequencies\n",
    "    frex = np.linspace(min_freq, max_freq, num=num_frex)\n",
    "\n",
    "    # wavelet cycles\n",
    "    range_cycles = [3, 10]\n",
    "    cycvec = np.logspace(np.log10(range_cycles[0]), np.log10(range_cycles[-1]), num=num_frex) / (2*np.pi*frex)\n",
    "\n",
    "    # wavelet params\n",
    "    wavtime = np.arange(-1, 1+1/sfreq, 1/sfreq)\n",
    "    half_wave = (wavtime.shape[0]-1)/2\n",
    "\n",
    "    # fft params\n",
    "    nWave = wavtime.shape[0]\n",
    "    nData = data.shape[0]\n",
    "    nConv = nWave + nData - 1\n",
    "\n",
    "    tf_data = np.zeros((frex.shape[0], nData))\n",
    "\n",
    "    for f_i, f in enumerate(frex):\n",
    "        # wavelet creation\n",
    "        p1 = np.exp(2*1j*np.pi*f*wavtime)\n",
    "        p2 = np.exp(-(wavtime**2)/(2*cycvec[f_i]**2))\n",
    "        wavelet = p1 * p2\n",
    "        waveletX = fft.fft(wavelet, nConv)\n",
    "        waveletX = waveletX / np.max(waveletX)\n",
    "        data_ = fft.fft(data, nConv)\n",
    "        # convolution\n",
    "        data_conv = fft.ifft(waveletX * data_)\n",
    "        data_conv = data_conv[int(half_wave):int(data_conv.shape[0]-half_wave)]\n",
    "        # compute power\n",
    "        tf_data[f_i,:] = np.abs(data_conv) ** 2\n",
    "    return tf_data"
   ]
  },
  {
   "cell_type": "code",
   "execution_count": 46,
   "id": "arbitrary-saturn",
   "metadata": {},
   "outputs": [],
   "source": [
    "divnorm = colors.TwoSlopeNorm(vmin=-10., vcenter=0, vmax=10)\n",
    "resolution = 100\n",
    "space = np.linspace(-5,5,resolution)\n",
    "X, Y = np.meshgrid(np.linspace(-5,5,resolution), np.linspace(-5,5,resolution))\n",
    "d = np.dstack([X,Y])\n",
    "t = np.linspace(-200,200, num=200)"
   ]
  },
  {
   "cell_type": "code",
   "execution_count": 64,
   "id": "interpreted-manor",
   "metadata": {
    "scrolled": false
   },
   "outputs": [
    {
     "data": {
      "application/vnd.jupyter.widget-view+json": {
       "model_id": "a19f0b67866148e5882a8b1dd5b89d6c",
       "version_major": 2,
       "version_minor": 0
      },
      "text/plain": [
       "Canvas(toolbar=Toolbar(toolitems=[('Home', 'Reset original view', 'home', 'home'), ('Back', 'Back to previous …"
      ]
     },
     "metadata": {},
     "output_type": "display_data"
    },
    {
     "data": {
      "application/vnd.jupyter.widget-view+json": {
       "model_id": "f1a8dc383a724c448047d3e8d4a8e258",
       "version_major": 2,
       "version_minor": 0
      },
      "text/plain": [
       "VBox(children=(HBox(children=(IntSlider(value=0, description='prox_pos_x', max=49, readout=False), Label(value…"
      ]
     },
     "metadata": {},
     "output_type": "display_data"
    },
    {
     "data": {
      "application/vnd.jupyter.widget-view+json": {
       "model_id": "c60d56251f7a4c42af0e7e3074f0c40d",
       "version_major": 2,
       "version_minor": 0
      },
      "text/plain": [
       "VBox(children=(HBox(children=(IntSlider(value=0, description='offset', max=49, readout=False), Label(value='-2…"
      ]
     },
     "metadata": {},
     "output_type": "display_data"
    },
    {
     "data": {
      "application/vnd.jupyter.widget-view+json": {
       "model_id": "c824247fe50e496c879660ff6d0dbaab",
       "version_major": 2,
       "version_minor": 0
      },
      "text/plain": [
       "VBox(children=(HBox(children=(IntSlider(value=0, description='offset', max=49, readout=False), Label(value='-2…"
      ]
     },
     "metadata": {},
     "output_type": "display_data"
    }
   ],
   "source": [
    "\n",
    "gs = gridspec.GridSpec(1, 2, wspace=0.2, hspace=0.2)\n",
    "figure = plt.figure(figsize=[9, 4])\n",
    "\n",
    "ax = figure.add_subplot(gs[0, 0], label=\"0\")\n",
    "controls = iplt.imshow(\n",
    "    gauss_sum,\n",
    "    prox_pos_x=(-5,5), \n",
    "    prox_pos_y=(-5,5), \n",
    "    prox_scale=(0.1,25), \n",
    "    prox_amp=(1,10), \n",
    "    dist_pos_x=(-5,5), \n",
    "    dist_pos_y=(-5,5), \n",
    "    dist_scale=(0.1,25), \n",
    "    dist_amp=(1,10),\n",
    "    aspect=\"equal\", \n",
    "    cmap=\"RdBu_r\", \n",
    "    norm=divnorm, \n",
    "    origin=\"lower\", \n",
    "    extent=[-5, 5, -5, 5], \n",
    "    ax=ax, \n",
    "    interpolation=None\n",
    ")\n",
    "ax = figure.add_subplot(gs[0, 1], label=\"2\")\n",
    "controls_prox = iplt.plot(\n",
    "    t,\n",
    "    time_course,\n",
    "    offset=(-200,200),\n",
    "    speed=(0.1,50),\n",
    "    ax=ax,\n",
    "    label=\"Proximal drive\",\n",
    "    c=\"red\"\n",
    ")\n",
    "controls_dist = iplt.plot(\n",
    "    t,\n",
    "    time_course,\n",
    "    offset=(-200,200),\n",
    "    speed=(0.1,50),\n",
    "    ax=ax,\n",
    "    label=\"Distal drive\",\n",
    "    c=\"blue\"\n",
    ")\n",
    "_ = plt.legend(loc=8, fontsize=\"x-small\")"
   ]
  },
  {
   "cell_type": "code",
   "execution_count": 91,
   "id": "bibliographic-setup",
   "metadata": {
    "scrolled": false
   },
   "outputs": [
    {
     "data": {
      "application/vnd.jupyter.widget-view+json": {
       "model_id": "3cd6184d9b68410b85039a70ec715281",
       "version_major": 2,
       "version_minor": 0
      },
      "text/plain": [
       "Canvas(toolbar=Toolbar(toolitems=[('Home', 'Reset original view', 'home', 'home'), ('Back', 'Back to previous …"
      ]
     },
     "metadata": {},
     "output_type": "display_data"
    }
   ],
   "source": [
    "prox = gaussian_2d(controls.params['prox_pos_x'], controls.params['prox_pos_y'], controls.params['prox_scale'], controls.params['prox_amp'])\n",
    "dist = gaussian_2d(controls.params['dist_pos_x'], controls.params['dist_pos_y'], controls.params['dist_scale'], controls.params['dist_amp'])\n",
    "prox_tc = time_course(t, controls_prox.params['offset'], controls_prox.params['speed'])\n",
    "dist_tc = time_course(t, controls_dist.params['offset'], controls_dist.params['speed'])\n",
    "prox_all = np.array([prox * i for i in prox_tc])\n",
    "dist_all = np.array([dist * i for i in dist_tc])\n",
    "sum_all = prox_all + (-dist_all)\n",
    "res = np.arange(10, 100, 10)\n",
    "gs_size = res.shape[0]\n",
    "\n",
    "gs = gridspec.GridSpec(gs_size, gs_size, wspace=0.02, hspace=0.2)\n",
    "fig = plt.figure(figsize=[15, 15])\n",
    "fontdict = {\n",
    "    'fontsize': 8,\n",
    "    'fontweight' : 1\n",
    "}\n",
    "gs_norm = colors.TwoSlopeNorm(vmin=-1., vcenter=0, vmax=1)\n",
    "coord = np.array(list(it.product(np.flip(res), res, repeat=1)))\n",
    "for (ix, (x, y)) in enumerate(coord):\n",
    "    ax = fig.add_subplot(gs[ix], label=str((x, y)))\n",
    "    \n",
    "    sig = sum_all[:,x, y]\n",
    "    tf = wv_transform(sig, 500, 0, 60, 100)\n",
    "    tf_max = np.where(tf == tf.max())[0][0]\n",
    "    ax.imshow(\n",
    "        tf, \n",
    "        cmap=\"RdBu_r\", \n",
    "        aspect=tf.shape[1]/tf.shape[0], \n",
    "        origin=\"lower\", \n",
    "        norm=gs_norm, \n",
    "        interpolation=\"gaussian\"\n",
    "    )\n",
    "    ax.set_title(\n",
    "        \"x:{} y:{}, mf:{}\".format(np.round(space[y],0), np.round(space[x], 0), tf_max), \n",
    "        fontdict=fontdict, pad=-1\n",
    "    )\n",
    "    ax.plot(sig*10+tf.shape[0]-10*sum_all.max()-10, lw=.5, c=\"black\", alpha=0.4)\n",
    "    \n",
    "    ax.axis('off')"
   ]
  },
  {
   "cell_type": "code",
   "execution_count": 89,
   "id": "executed-trading",
   "metadata": {
    "scrolled": true
   },
   "outputs": [
    {
     "data": {
      "application/vnd.jupyter.widget-view+json": {
       "model_id": "2c151beec06b466ea8fccadc1161a708",
       "version_major": 2,
       "version_minor": 0
      },
      "text/plain": [
       "Canvas(toolbar=Toolbar(toolitems=[('Home', 'Reset original view', 'home', 'home'), ('Back', 'Back to previous …"
      ]
     },
     "metadata": {},
     "output_type": "display_data"
    },
    {
     "data": {
      "text/plain": [
       "<matplotlib.colorbar.Colorbar at 0x7f4e6e8ac160>"
      ]
     },
     "execution_count": 89,
     "metadata": {},
     "output_type": "execute_result"
    }
   ],
   "source": [
    "summary = np.zeros((50, 50))\n",
    "for (x, y) in list(it.product(np.arange(0,100,2), np.arange(0,100,2), repeat=1)):\n",
    "    sig = sum_all[:,x, y]\n",
    "    tf = wv_transform(sig, 500, 0, 60, 100)\n",
    "    tf_max = np.where(tf == tf.max())[0][0]\n",
    "    summary[int(x/2),int(y/2)] = tf_max\n",
    "\n",
    "f = plt.figure(figsize=(5,5))\n",
    "ax = plt.subplot(111)\n",
    "divnorm = colors.TwoSlopeNorm(vmin=-0.001, vcenter=0, vmax=60)\n",
    "divider = make_axes_locatable(ax)\n",
    "cax = divider.append_axes(\"right\", size=\"5%\", pad=0.05)\n",
    "im = ax.imshow(summary,aspect=\"equal\", norm=divnorm, cmap=\"RdBu_r\", origin=\"lower\",extent=[-5, 5, -5, 5])\n",
    "plt.colorbar(im, cax=cax)"
   ]
  },
  {
   "cell_type": "code",
   "execution_count": 90,
   "id": "entertaining-incidence",
   "metadata": {},
   "outputs": [
    {
     "data": {
      "application/vnd.jupyter.widget-view+json": {
       "model_id": "9270993beee0430387ccfbe881930085",
       "version_major": 2,
       "version_minor": 0
      },
      "text/plain": [
       "Canvas(toolbar=Toolbar(toolitems=[('Home', 'Reset original view', 'home', 'home'), ('Back', 'Back to previous …"
      ]
     },
     "metadata": {},
     "output_type": "display_data"
    },
    {
     "data": {
      "text/plain": [
       "<matplotlib.colorbar.Colorbar at 0x7f4e6e752250>"
      ]
     },
     "execution_count": 90,
     "metadata": {},
     "output_type": "execute_result"
    }
   ],
   "source": [
    "f = plt.figure(figsize=(5,5))\n",
    "ax = plt.subplot(111)\n",
    "divnorm = colors.TwoSlopeNorm(vmin=-0.001, vcenter=0, vmax=60)\n",
    "divider = make_axes_locatable(ax)\n",
    "cax = divider.append_axes(\"right\", size=\"5%\", pad=0.05)\n",
    "im = ax.imshow(summary,aspect=\"equal\", norm=divnorm, cmap=\"RdBu_r\", origin=\"lower\",extent=[-5, 5, -5, 5])\n",
    "plt.colorbar(im, cax=cax)"
   ]
  }
 ],
 "metadata": {
  "kernelspec": {
   "display_name": "Python 3",
   "language": "python",
   "name": "python3"
  },
  "language_info": {
   "codemirror_mode": {
    "name": "ipython",
    "version": 3
   },
   "file_extension": ".py",
   "mimetype": "text/x-python",
   "name": "python",
   "nbconvert_exporter": "python",
   "pygments_lexer": "ipython3",
   "version": "3.9.1"
  }
 },
 "nbformat": 4,
 "nbformat_minor": 5
}
